{
  "nbformat": 4,
  "nbformat_minor": 0,
  "metadata": {
    "colab": {
      "provenance": []
    },
    "kernelspec": {
      "name": "python3",
      "display_name": "Python 3"
    },
    "language_info": {
      "name": "python"
    }
  },
  "cells": [
    {
      "cell_type": "markdown",
      "source": [
        "# Data Science Project\n"
      ],
      "metadata": {
        "id": "WZKpoJNZsGMF"
      }
    },
    {
      "cell_type": "markdown",
      "source": [
        "## Introduction\n",
        "This notebook explores various aspects of data science, including languages, libraries, tools, and arithmetic examples.\n"
      ],
      "metadata": {
        "id": "CjqZUm_FsKdg"
      }
    },
    {
      "cell_type": "markdown",
      "source": [
        "## Data Science Languages\n",
        "- Python\n",
        "- R\n",
        "- SQL\n",
        "- Julia\n"
      ],
      "metadata": {
        "id": "UWArqTxhsNbR"
      }
    },
    {
      "cell_type": "markdown",
      "source": [
        "## Data Science Libraries\n",
        "- NumPy\n",
        "- Pandas\n",
        "- Scikit-learn\n",
        "- TensorFlow\n"
      ],
      "metadata": {
        "id": "5cPRUo_ZsQv1"
      }
    },
    {
      "cell_type": "markdown",
      "source": [
        "## Data Science Tools\n",
        "| Tool          | Purpose                          |\n",
        "|---------------|----------------------------------|\n",
        "| Jupyter       | Notebook interface for coding    |\n",
        "| RStudio       | IDE for R programming            |\n",
        "| GitHub        | Version control and collaboration |\n"
      ],
      "metadata": {
        "id": "Z1OdNTpXsSXf"
      }
    },
    {
      "cell_type": "markdown",
      "source": [
        "## Arithmetic Expression Examples\n",
        "Here are some examples of basic arithmetic operations.\n"
      ],
      "metadata": {
        "id": "UhonWB6ksUG6"
      }
    },
    {
      "cell_type": "markdown",
      "source": [],
      "metadata": {
        "id": "-nezz2SzsYnu"
      }
    },
    {
      "cell_type": "code",
      "source": [
        "# Multiplying and adding numbers\n",
        "a = 5\n",
        "b = 3\n",
        "result = (a * b) + (a + b)\n",
        "result\n"
      ],
      "metadata": {
        "colab": {
          "base_uri": "https://localhost:8080/"
        },
        "id": "Q6OT3PyfsJ0J",
        "outputId": "b0309b1c-297d-4f5c-d270-6b0bf8a0bbd0"
      },
      "execution_count": 1,
      "outputs": [
        {
          "output_type": "execute_result",
          "data": {
            "text/plain": [
              "23"
            ]
          },
          "metadata": {},
          "execution_count": 1
        }
      ]
    },
    {
      "cell_type": "code",
      "source": [
        "# Convert minutes to hours\n",
        "minutes = 120\n",
        "hours = minutes / 60\n",
        "hours\n"
      ],
      "metadata": {
        "colab": {
          "base_uri": "https://localhost:8080/"
        },
        "id": "lcMXBV_UsfwK",
        "outputId": "e21ac441-d448-4b3e-d64d-41e31c96790a"
      },
      "execution_count": 2,
      "outputs": [
        {
          "output_type": "execute_result",
          "data": {
            "text/plain": [
              "2.0"
            ]
          },
          "metadata": {},
          "execution_count": 2
        }
      ]
    },
    {
      "cell_type": "markdown",
      "source": [
        "## Objectives\n",
        "- Understand data science languages and libraries.\n",
        "- Explore various data science tools.\n",
        "- Implement arithmetic operations in Python.\n"
      ],
      "metadata": {
        "id": "jJcKLBe-sg4B"
      }
    },
    {
      "cell_type": "markdown",
      "source": [
        "## Author\n",
        "Vedant Paunikar\n"
      ],
      "metadata": {
        "id": "QWrExZdjsjY-"
      }
    }
  ]
}